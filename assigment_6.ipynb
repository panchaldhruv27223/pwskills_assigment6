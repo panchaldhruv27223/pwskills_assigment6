{
 "cells": [
  {
   "cell_type": "code",
   "execution_count": 1,
   "id": "88ab79ef",
   "metadata": {},
   "outputs": [
    {
     "name": "stdout",
     "output_type": "stream",
     "text": [
      "enter your marks :56\n",
      "you got D grade\n"
     ]
    }
   ],
   "source": [
    "# q-1 ans :\n",
    "\n",
    "marks = int(input(\"enter your marks :\"))\n",
    "\n",
    "if marks>90:\n",
    "    print(\"congratulation you get A grade\")\n",
    "elif (marks>80 and marks<=90) :\n",
    "    print(\"you got B grade\")\n",
    "elif (marks>=60 and marks<=80) :\n",
    "    print(\"you got C grade\")\n",
    "elif (marks<60) :\n",
    "    print(\"you got D grade\")"
   ]
  },
  {
   "cell_type": "code",
   "execution_count": 2,
   "id": "826936d1",
   "metadata": {},
   "outputs": [
    {
     "name": "stdout",
     "output_type": "stream",
     "text": [
      "enter your marks :100000\n",
      "total paid tax : 10000.0\n"
     ]
    }
   ],
   "source": [
    "#  Q-2 ans\n",
    "\n",
    "price_bike = int(input(\"enter your marks :\"))\n",
    "\n",
    "if price_bike >100000:\n",
    "    print(\"total paid tax :\", (price_bike*15)/100 ) \n",
    "elif (price_bike>50000 and price_bike<=100000):\n",
    "    print(\"total paid tax :\", (price_bike*10)/100 )\n",
    "if price_bike<50000:\n",
    "    print(\"total paid tax :\", (price_bike*5)/100 ) "
   ]
  },
  {
   "cell_type": "code",
   "execution_count": 3,
   "id": "3db22392",
   "metadata": {
    "scrolled": true
   },
   "outputs": [
    {
     "name": "stdout",
     "output_type": "stream",
     "text": [
      "enter a city name to show there monumentjaipur\n",
      "jal mahal\n"
     ]
    }
   ],
   "source": [
    "# q-3 ans :\n",
    "dic = {\n",
    "    \"delhi\" : \"red fort\",\n",
    "    \"agra\" : \"taj mahal\",\n",
    "    \"jaipur\" : \"jal mahal\"\n",
    "}\n",
    "\n",
    "ucity = input(\"enter a city name to show there monument\")\n",
    "\n",
    "print(dic[ucity])"
   ]
  },
  {
   "cell_type": "code",
   "execution_count": 4,
   "id": "cb59f043",
   "metadata": {
    "scrolled": true
   },
   "outputs": [
    {
     "name": "stdout",
     "output_type": "stream",
     "text": [
      "enter a number :5\n",
      "0\n"
     ]
    }
   ],
   "source": [
    "#  q-4 ans :\n",
    "\n",
    "number = int(input(\"enter a number :\"))\n",
    "count = 0\n",
    "\n",
    "while number > 10  :\n",
    "    number = number/3\n",
    "    count = count + 1\n",
    "print(count)"
   ]
  },
  {
   "cell_type": "code",
   "execution_count": 5,
   "id": "412c0bdf",
   "metadata": {},
   "outputs": [],
   "source": [
    "#  q-5 ans :\n",
    "\n",
    "# / while loop is based on condition \n",
    "#  when we don't know how many time loop weexecute but we know the condition \n",
    "#  means when we want to continue our loop until some condition is true \n",
    "#  when our condition is false our loop was terminate"
   ]
  },
  {
   "cell_type": "code",
   "execution_count": 6,
   "id": "f6e1b716",
   "metadata": {},
   "outputs": [
    {
     "name": "stdout",
     "output_type": "stream",
     "text": [
      "0\n",
      "1\n",
      "2\n",
      "3\n",
      "4\n",
      "5\n",
      "6\n",
      "7\n",
      "8\n",
      "9\n"
     ]
    }
   ],
   "source": [
    "#  ex :\n",
    "\n",
    "count = 0 \n",
    "while count <10 :\n",
    "    print(count)\n",
    "    count = count + 1"
   ]
  },
  {
   "cell_type": "code",
   "execution_count": 12,
   "id": "411e0677",
   "metadata": {
    "scrolled": true
   },
   "outputs": [
    {
     "name": "stdout",
     "output_type": "stream",
     "text": [
      "enter a number :5\n",
      "*\n",
      "**\n",
      "***\n",
      "****\n",
      "*****\n"
     ]
    }
   ],
   "source": [
    "#  Q-6 ans \n",
    "#  pattern no 1 \n",
    "number = int(input(\"enter a number :\"))\n",
    "\n",
    "i = 1\n",
    "while i<= number :\n",
    "    j = 1\n",
    "    while j<=i :\n",
    "        print(\"*\" ,end=\"\")\n",
    "        j= j+1\n",
    "    print(\"\")\n",
    "    i = i +1"
   ]
  },
  {
   "cell_type": "code",
   "execution_count": 13,
   "id": "ab077fe4",
   "metadata": {},
   "outputs": [
    {
     "name": "stdout",
     "output_type": "stream",
     "text": [
      "enter a number :5\n",
      "*****\n",
      "****\n",
      "***\n",
      "**\n",
      "*\n"
     ]
    }
   ],
   "source": [
    "#  pattern no -2 \n",
    "\n",
    "number = int(input(\"enter a number :\"))\n",
    "\n",
    "i = 1\n",
    "while i <= number :\n",
    "    j = number\n",
    "    while j>=i :\n",
    "        print(\"*\", end=\"\")\n",
    "        j = j-1\n",
    "    print()\n",
    "    i = i+1\n",
    "    "
   ]
  },
  {
   "cell_type": "code",
   "execution_count": 17,
   "id": "0a84accc",
   "metadata": {
    "scrolled": true
   },
   "outputs": [
    {
     "name": "stdout",
     "output_type": "stream",
     "text": [
      "enter a number :5\n",
      "    *\n",
      "   **\n",
      "  ***\n",
      " ****\n",
      "*****\n"
     ]
    }
   ],
   "source": [
    "number = int(input(\"enter a number :\"))\n",
    "\n",
    "i= 1\n",
    "while i<=number :\n",
    "    j=1\n",
    "    while j <= number-i :\n",
    "        print(\" \", end=\"\")\n",
    "        j= j+1\n",
    "    k = 1\n",
    "    while k<=i:\n",
    "        print(\"*\" , end=\"\")\n",
    "        k =k +1\n",
    "    print()\n",
    "    i = i + 1"
   ]
  },
  {
   "cell_type": "code",
   "execution_count": 18,
   "id": "7407342e",
   "metadata": {},
   "outputs": [
    {
     "name": "stdout",
     "output_type": "stream",
     "text": [
      "10\n",
      "9\n",
      "8\n",
      "7\n",
      "6\n",
      "5\n",
      "4\n",
      "3\n",
      "2\n",
      "1\n"
     ]
    }
   ],
   "source": [
    "# Q-7\n",
    "\n",
    "i = 10 \n",
    "while i >=1:\n",
    "    print(i)\n",
    "    i = i - 1\n",
    "    "
   ]
  },
  {
   "cell_type": "code",
   "execution_count": 10,
   "id": "c2b085db",
   "metadata": {},
   "outputs": [
    {
     "name": "stdout",
     "output_type": "stream",
     "text": [
      "10\n",
      "9\n",
      "8\n",
      "7\n",
      "6\n",
      "5\n",
      "4\n",
      "3\n",
      "2\n",
      "1\n"
     ]
    }
   ],
   "source": [
    "# Q-8\n",
    "\n",
    "i = 10 \n",
    "while i >=1:\n",
    "    print(i)\n",
    "    i = i - 1\n",
    "    "
   ]
  }
 ],
 "metadata": {
  "kernelspec": {
   "display_name": "Python 3 (ipykernel)",
   "language": "python",
   "name": "python3"
  },
  "language_info": {
   "codemirror_mode": {
    "name": "ipython",
    "version": 3
   },
   "file_extension": ".py",
   "mimetype": "text/x-python",
   "name": "python",
   "nbconvert_exporter": "python",
   "pygments_lexer": "ipython3",
   "version": "3.9.7"
  }
 },
 "nbformat": 4,
 "nbformat_minor": 5
}
